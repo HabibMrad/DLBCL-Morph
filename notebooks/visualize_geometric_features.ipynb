{
 "cells": [
  {
   "cell_type": "code",
   "execution_count": 81,
   "metadata": {},
   "outputs": [],
   "source": [
    "import numpy as np\n",
    "import cv2\n",
    "import pandas as pd\n",
    "import matplotlib.pyplot as plt\n",
    "from scipy.ndimage import binary_fill_holes\n",
    "from scipy.special import ellipe\n",
    "from PIL import Image"
   ]
  },
  {
   "cell_type": "code",
   "execution_count": 82,
   "metadata": {},
   "outputs": [],
   "source": [
    "#Specify path to nucleus segmentation mask\n",
    "nucleus_seg_path = \"/deep/group/aihc-bootcamp-winter2020/dlbcl/DLBCL-Morph/Cells/13901/1064/14.npy\""
   ]
  },
  {
   "cell_type": "markdown",
   "metadata": {},
   "source": [
    "# Load and visualize nucleus segmentation mask"
   ]
  },
  {
   "cell_type": "code",
   "execution_count": 83,
   "metadata": {},
   "outputs": [
    {
     "data": {
      "image/png": "[encoded data removed]",
      "text/plain": [
       "<Figure size 432x288 with 1 Axes>"
      ]
     },
     "metadata": {
      "needs_background": "light"
     },
     "output_type": "display_data"
    }
   ],
   "source": [
    "img = np.load(nucleus_seg_path)\n",
    "#zero padding for clarity of visualization. The features in Cells/cell_shapes.csv are computed\n",
    "#without zero-padding, so you can comment out the next line of code to reproduce those numbers\n",
    "img = np.pad(img, 5) \n",
    "img = binary_fill_holes(img) #fill holes that sometimes appear inside the segmentation mask\n",
    "\n",
    "mask = img.copy()\n",
    "img = img.astype(np.uint8)\n",
    "img[mask] = 255\n",
    "plt.imshow(img, cmap='gray')\n",
    "plt.show()"
   ]
  },
  {
   "cell_type": "code",
   "execution_count": 84,
   "metadata": {},
   "outputs": [
    {
     "data": {
      "image/png": "[encoded data removed]",
      "text/plain": [
       "<Figure size 432x288 with 1 Axes>"
      ]
     },
     "metadata": {
      "needs_background": "light"
     },
     "output_type": "display_data"
    }
   ],
   "source": [
    "ret, thresh = cv2.threshold(img,127,255,0)\n",
    "contours, hierarchy = cv2.findContours(thresh, 1, 2)\n",
    "cnt = contours[0]\n",
    "\n",
    "plt.imshow(thresh, cmap='gray')\n",
    "plt.show()"
   ]
  },
  {
   "cell_type": "markdown",
   "metadata": {},
   "source": [
    "# Fit rectangle"
   ]
  },
  {
   "cell_type": "code",
   "execution_count": 85,
   "metadata": {},
   "outputs": [
    {
     "name": "stdout",
     "output_type": "stream",
     "text": [
      "Rectangle center: (23.749998092651367, 22.25)\n",
      "Rectangle width: 37.314869, height: 31.306545\n",
      "Rectangle rotation angle: -18.43494987487793\n"
     ]
    },
    {
     "data": {
      "image/png": "[encoded data removed]",
      "text/plain": [
       "<Figure size 432x288 with 1 Axes>"
      ]
     },
     "metadata": {
      "needs_background": "light"
     },
     "output_type": "display_data"
    }
   ],
   "source": [
    "rect = cv2.minAreaRect(cnt)\n",
    "(rectCoord1, rectCoord2, rotate_angle) = rect\n",
    "box = cv2.boxPoints(rect)\n",
    "box = np.int0(box)\n",
    "\n",
    "rgb_img = cv2.cvtColor(img, cv2.COLOR_GRAY2RGB)\n",
    "cv2.drawContours(rgb_img,[box],0,(0,0,255),1)\n",
    "plt.imshow(rgb_img)\n",
    "\n",
    "print(\"Rectangle center:\", rect[0])\n",
    "print(\"Rectangle width: %.6f, height: %.6f\" % (rect[1][0], rect[1][1]))\n",
    "print(\"Rectangle rotation angle:\", rect[2])"
   ]
  },
  {
   "cell_type": "markdown",
   "metadata": {},
   "source": [
    "# Fit ellipse"
   ]
  },
  {
   "cell_type": "code",
   "execution_count": 86,
   "metadata": {},
   "outputs": [
    {
     "data": {
      "text/plain": [
       "<matplotlib.image.AxesImage at 0x7faa455f3150>"
      ]
     },
     "execution_count": 86,
     "metadata": {},
     "output_type": "execute_result"
    },
    {
     "data": {
      "image/png": "[encoded data removed]",
      "text/plain": [
       "<Figure size 432x288 with 1 Axes>"
      ]
     },
     "metadata": {
      "needs_background": "light"
     },
     "output_type": "display_data"
    }
   ],
   "source": [
    "rgb_img = cv2.cvtColor(img, cv2.COLOR_GRAY2RGB)\n",
    "\n",
    "ellipse = cv2.fitEllipseDirect(cnt)  #(x, y), (major, minor), angle                                                            \n",
    "ell = cv2.ellipse(rgb_img,ellipse,(0,255,0),1)\n",
    "(ellpCtr_x, ellpCtr_y), (shortAxis, longAxis), angle = ellipse\n",
    "plt.imshow(rgb_img)"
   ]
  },
  {
   "cell_type": "code",
   "execution_count": 87,
   "metadata": {},
   "outputs": [],
   "source": [
    "# perimeter and area of ellipse                                                                                                            \n",
    "a = longAxis / 2\n",
    "b = shortAxis / 2\n",
    "e = np.sqrt(1 - b**2 / a**2)  # eccentricity                                                                                       \n",
    "perimt = 4 * a * ellipe(e*e)\n",
    "area = np.pi * a * b"
   ]
  },
  {
   "cell_type": "code",
   "execution_count": 88,
   "metadata": {},
   "outputs": [
    {
     "name": "stdout",
     "output_type": "stream",
     "text": [
      "Ellipse centroid: (24.271310806274414, 21.33393669128418)\n",
      "Major axis (longAxis) length: 37.061234\n",
      "Minor axis (shortAxis) length: 30.641516\n",
      "Ellipse parimeter: 106.586413\n",
      "Ellipse area: 891.907870\n"
     ]
    }
   ],
   "source": [
    "print(\"Ellipse centroid:\", (ellpCtr_x, ellpCtr_y))\n",
    "print(\"Major axis (longAxis) length: %.6f\" % longAxis)\n",
    "print(\"Minor axis (shortAxis) length: %.6f\" % shortAxis)\n",
    "print(\"Ellipse parimeter: %.6f\" % perimt)\n",
    "print(\"Ellipse area: %.6f\" % area)"
   ]
  },
  {
   "cell_type": "markdown",
   "metadata": {},
   "source": [
    "# Convex hull area"
   ]
  },
  {
   "cell_type": "code",
   "execution_count": 89,
   "metadata": {},
   "outputs": [
    {
     "name": "stdout",
     "output_type": "stream",
     "text": [
      "Convex hull area: 922.000000\n"
     ]
    }
   ],
   "source": [
    "hull = cv2.convexHull(cnt)\n",
    "hull_area = cv2.contourArea(hull)\n",
    "print(\"Convex hull area: %.6f\" % hull_area)"
   ]
  },
  {
   "cell_type": "code",
   "execution_count": null,
   "metadata": {},
   "outputs": [],
   "source": []
  }
 ],
 "metadata": {
  "kernelspec": {
   "display_name": "Python 3",
   "language": "python",
   "name": "python3"
  },
  "language_info": {
   "codemirror_mode": {
    "name": "ipython",
    "version": 3
   },
   "file_extension": ".py",
   "mimetype": "text/x-python",
   "name": "python",
   "nbconvert_exporter": "python",
   "pygments_lexer": "ipython3",
   "version": "3.7.6"
  }
 },
 "nbformat": 4,
 "nbformat_minor": 4
}
